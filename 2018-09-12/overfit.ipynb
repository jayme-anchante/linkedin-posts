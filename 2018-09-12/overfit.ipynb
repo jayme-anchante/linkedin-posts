{
 "cells": [
  {
   "cell_type": "code",
   "execution_count": 1,
   "metadata": {},
   "outputs": [],
   "source": [
    "%matplotlib inline\n",
    "import os\n",
    "import matplotlib.pyplot as plt\n",
    "from sklearn.datasets import load_boston\n",
    "from sklearn.tree import DecisionTreeRegressor\n",
    "from sklearn.model_selection import train_test_split\n",
    "from sklearn.metrics import mean_squared_error\n",
    "\n",
    "width = os.get_terminal_size().columns + 20"
   ]
  },
  {
   "cell_type": "code",
   "execution_count": 2,
   "metadata": {},
   "outputs": [
    {
     "name": "stdout",
     "output_type": "stream",
     "text": [
      "\n",
      "                               *************************************                                \n",
      "\n",
      "\n",
      "                                       ERRO QUADRÁTICO MÉDIO:                                       \n",
      "                                                0.0                                                 \n",
      "\n",
      "\n",
      "                               *************************************                                \n"
     ]
    }
   ],
   "source": [
    "data = load_boston()\n",
    "X_train, X_test, y_train, y_test = train_test_split(data.data[:, 0].reshape(-1,1), data.target, test_size=0.2, shuffle=True, random_state=3)\n",
    "dt = DecisionTreeRegressor()\n",
    "dt.fit(X_train, y_train)\n",
    "print('\\n{}\\n\\n\\n{}\\n{: ^100}\\n\\n\\n{}'.format('*************************************'.center(width),\n",
    "                                    'ERRO QUADRÁTICO MÉDIO:'.center(width),\n",
    "                                    mean_squared_error(y_train, dt.predict(X_train)),\n",
    "                                    '*************************************'.center(width)))"
   ]
  },
  {
   "cell_type": "markdown",
   "metadata": {},
   "source": [
    "![title](freedie.png)"
   ]
  },
  {
   "cell_type": "code",
   "execution_count": 3,
   "metadata": {},
   "outputs": [
    {
     "name": "stdout",
     "output_type": "stream",
     "text": [
      "\n",
      "                               *************************************                                \n",
      "\n",
      "\n",
      "                                       ERRO QUADRÁTICO MÉDIO:                                       \n",
      "                                         177.51460784313727                                         \n",
      "\n",
      "\n",
      "                               *************************************                                \n"
     ]
    }
   ],
   "source": [
    "print('\\n{}\\n\\n\\n{}\\n{: ^100}\\n\\n\\n{}'.format('*************************************'.center(width),\n",
    "                                    'ERRO QUADRÁTICO MÉDIO:'.center(width),\n",
    "                                    mean_squared_error(y_test, dt.predict(X_test)),\n",
    "                                    '*************************************'.center(width)))"
   ]
  },
  {
   "cell_type": "markdown",
   "metadata": {},
   "source": [
    "![title](crying.jpeg)"
   ]
  },
  {
   "cell_type": "code",
   "execution_count": null,
   "metadata": {},
   "outputs": [],
   "source": []
  }
 ],
 "metadata": {
  "kernelspec": {
   "display_name": "Python 3",
   "language": "python",
   "name": "python3"
  },
  "language_info": {
   "codemirror_mode": {
    "name": "ipython",
    "version": 3
   },
   "file_extension": ".py",
   "mimetype": "text/x-python",
   "name": "python",
   "nbconvert_exporter": "python",
   "pygments_lexer": "ipython3",
   "version": "3.6.6"
  }
 },
 "nbformat": 4,
 "nbformat_minor": 2
}
