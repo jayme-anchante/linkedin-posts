{
 "cells": [
  {
   "cell_type": "markdown",
   "metadata": {},
   "source": [
    "source: https://blog.socialcops.com/technology/engineering/camelot-python-library-pdf-data/"
   ]
  },
  {
   "cell_type": "code",
   "execution_count": 4,
   "metadata": {},
   "outputs": [],
   "source": [
    "import camelot"
   ]
  },
  {
   "cell_type": "code",
   "execution_count": null,
   "metadata": {},
   "outputs": [],
   "source": [
    "camelot"
   ]
  },
  {
   "cell_type": "code",
   "execution_count": 2,
   "metadata": {},
   "outputs": [
    {
     "ename": "AttributeError",
     "evalue": "module 'camelot' has no attribute 'read_pdf'",
     "output_type": "error",
     "traceback": [
      "\u001b[0;31m---------------------------------------------------------------------------\u001b[0m",
      "\u001b[0;31mAttributeError\u001b[0m                            Traceback (most recent call last)",
      "\u001b[0;32m<ipython-input-2-ee47375b2b49>\u001b[0m in \u001b[0;36m<module>\u001b[0;34m()\u001b[0m\n\u001b[0;32m----> 1\u001b[0;31m \u001b[0mtables\u001b[0m \u001b[0;34m=\u001b[0m \u001b[0mcamelot\u001b[0m\u001b[0;34m.\u001b[0m\u001b[0mread_pdf\u001b[0m\u001b[0;34m(\u001b[0m\u001b[0;34m'precos_emater_rs.pdf'\u001b[0m\u001b[0;34m,\u001b[0m \u001b[0mpages\u001b[0m\u001b[0;34m=\u001b[0m\u001b[0;34m'1-end'\u001b[0m\u001b[0;34m)\u001b[0m\u001b[0;34m\u001b[0m\u001b[0m\n\u001b[0m\u001b[1;32m      2\u001b[0m \u001b[0mtables\u001b[0m\u001b[0;34m\u001b[0m\u001b[0m\n",
      "\u001b[0;31mAttributeError\u001b[0m: module 'camelot' has no attribute 'read_pdf'"
     ]
    }
   ],
   "source": [
    "tables = camelot.read_pdf('precos_emater_rs.pdf', pages='1-end')\n",
    "tables"
   ]
  },
  {
   "cell_type": "code",
   "execution_count": 54,
   "metadata": {},
   "outputs": [],
   "source": [
    "df = tables[4].df"
   ]
  },
  {
   "cell_type": "code",
   "execution_count": 55,
   "metadata": {},
   "outputs": [],
   "source": [
    "df = df.rename(columns=df.iloc[0]).drop(0)"
   ]
  },
  {
   "cell_type": "code",
   "execution_count": 56,
   "metadata": {},
   "outputs": [
    {
     "data": {
      "text/html": [
       "<div>\n",
       "<style scoped>\n",
       "    .dataframe tbody tr th:only-of-type {\n",
       "        vertical-align: middle;\n",
       "    }\n",
       "\n",
       "    .dataframe tbody tr th {\n",
       "        vertical-align: top;\n",
       "    }\n",
       "\n",
       "    .dataframe thead th {\n",
       "        text-align: right;\n",
       "    }\n",
       "</style>\n",
       "<table border=\"1\" class=\"dataframe\">\n",
       "  <thead>\n",
       "    <tr style=\"text-align: right;\">\n",
       "      <th></th>\n",
       "      <th>Municípios</th>\n",
       "      <th>Leite (litro)</th>\n",
       "      <th>Sorgo (sc/60kg)</th>\n",
       "      <th>Suíno Tipo Carne (kg vivo)</th>\n",
       "      <th>Arroz em Casca (sc/50 kg)</th>\n",
       "      <th>Boi para Abate (kg vivo)</th>\n",
       "      <th>BUFALO (kg/vivo)</th>\n",
       "      <th>Cordeiro para Abate (kg vivo)</th>\n",
       "      <th>Milho (sc/60 kg)</th>\n",
       "      <th>Soja (sc/60 kg)</th>\n",
       "      <th>Vaca para Abate (kg vivo)</th>\n",
       "      <th>Trigo (sc/60 kg)</th>\n",
       "      <th>Feijão (sc/60 kg)</th>\n",
       "    </tr>\n",
       "  </thead>\n",
       "  <tbody>\n",
       "    <tr>\n",
       "      <th>1</th>\n",
       "      <td>26.  Coxilha</td>\n",
       "      <td></td>\n",
       "      <td></td>\n",
       "      <td></td>\n",
       "      <td></td>\n",
       "      <td></td>\n",
       "      <td></td>\n",
       "      <td></td>\n",
       "      <td>36,50</td>\n",
       "      <td></td>\n",
       "      <td></td>\n",
       "      <td>41,00</td>\n",
       "      <td></td>\n",
       "    </tr>\n",
       "    <tr>\n",
       "      <th>2</th>\n",
       "      <td>27.  Cruz Alta</td>\n",
       "      <td></td>\n",
       "      <td></td>\n",
       "      <td></td>\n",
       "      <td></td>\n",
       "      <td></td>\n",
       "      <td></td>\n",
       "      <td></td>\n",
       "      <td>38,00</td>\n",
       "      <td>81,00</td>\n",
       "      <td></td>\n",
       "      <td>41,00</td>\n",
       "      <td>130,00</td>\n",
       "    </tr>\n",
       "    <tr>\n",
       "      <th>3</th>\n",
       "      <td>28.  Cruzeiro do Sul</td>\n",
       "      <td></td>\n",
       "      <td></td>\n",
       "      <td></td>\n",
       "      <td></td>\n",
       "      <td></td>\n",
       "      <td></td>\n",
       "      <td></td>\n",
       "      <td>41,00</td>\n",
       "      <td>78,50</td>\n",
       "      <td></td>\n",
       "      <td></td>\n",
       "      <td></td>\n",
       "    </tr>\n",
       "    <tr>\n",
       "      <th>4</th>\n",
       "      <td>29.  Dom Feliciano</td>\n",
       "      <td></td>\n",
       "      <td></td>\n",
       "      <td></td>\n",
       "      <td></td>\n",
       "      <td></td>\n",
       "      <td></td>\n",
       "      <td></td>\n",
       "      <td></td>\n",
       "      <td></td>\n",
       "      <td></td>\n",
       "      <td></td>\n",
       "      <td></td>\n",
       "    </tr>\n",
       "    <tr>\n",
       "      <th>5</th>\n",
       "      <td>30.  Dom Pedrito</td>\n",
       "      <td></td>\n",
       "      <td></td>\n",
       "      <td></td>\n",
       "      <td></td>\n",
       "      <td>4,70</td>\n",
       "      <td></td>\n",
       "      <td>5,50</td>\n",
       "      <td></td>\n",
       "      <td>82,00</td>\n",
       "      <td>4,00</td>\n",
       "      <td></td>\n",
       "      <td></td>\n",
       "    </tr>\n",
       "  </tbody>\n",
       "</table>\n",
       "</div>"
      ],
      "text/plain": [
       "             Municípios Leite (litro) Sorgo (sc/60kg)  \\\n",
       "1          26.  Coxilha                                 \n",
       "2        27.  Cruz Alta                                 \n",
       "3  28.  Cruzeiro do Sul                                 \n",
       "4    29.  Dom Feliciano                                 \n",
       "5      30.  Dom Pedrito                                 \n",
       "\n",
       "  Suíno Tipo Carne (kg vivo) Arroz em Casca (sc/50 kg)  \\\n",
       "1                                                        \n",
       "2                                                        \n",
       "3                                                        \n",
       "4                                                        \n",
       "5                                                        \n",
       "\n",
       "  Boi para Abate (kg vivo) BUFALO (kg/vivo) Cordeiro para Abate (kg vivo)  \\\n",
       "1                                                                           \n",
       "2                                                                           \n",
       "3                                                                           \n",
       "4                                                                           \n",
       "5                     4,70                                           5,50   \n",
       "\n",
       "  Milho (sc/60 kg) Soja (sc/60 kg) Vaca para Abate (kg vivo) Trigo (sc/60 kg)  \\\n",
       "1            36,50                                                      41,00   \n",
       "2            38,00           81,00                                      41,00   \n",
       "3            41,00           78,50                                              \n",
       "4                                                                               \n",
       "5                            82,00                      4,00                    \n",
       "\n",
       "  Feijão (sc/60 kg)  \n",
       "1                    \n",
       "2            130,00  \n",
       "3                    \n",
       "4                    \n",
       "5                    "
      ]
     },
     "execution_count": 56,
     "metadata": {},
     "output_type": "execute_result"
    }
   ],
   "source": [
    "df.head()"
   ]
  }
 ],
 "metadata": {
  "kernelspec": {
   "display_name": "Python 3",
   "language": "python",
   "name": "python3"
  },
  "language_info": {
   "codemirror_mode": {
    "name": "ipython",
    "version": 3
   },
   "file_extension": ".py",
   "mimetype": "text/x-python",
   "name": "python",
   "nbconvert_exporter": "python",
   "pygments_lexer": "ipython3",
   "version": "3.6.5"
  }
 },
 "nbformat": 4,
 "nbformat_minor": 2
}
