{
 "cells": [
  {
   "cell_type": "markdown",
   "metadata": {},
   "source": [
    "# tidy date strings\n",
    "\n",
    "If all date parts are in the same position in the string, things get a little bit easier"
   ]
  },
  {
   "cell_type": "code",
   "execution_count": 1,
   "metadata": {},
   "outputs": [
    {
     "name": "stdout",
     "output_type": "stream",
     "text": [
      "2018-09-14\n",
      "2018-09-15\n",
      "2018-09-16\n"
     ]
    }
   ],
   "source": [
    "import datetime\n",
    "tidy_dates = [\n",
    "    '14/09/2018',\n",
    "    '15/09/2018',\n",
    "    '16/09/2018'\n",
    "]\n",
    "for date in tidy_dates:\n",
    "    print(datetime.date(int(date[6:]), int(date[3:5]), int(date[:2])).strftime('%Y-%m-%d'))"
   ]
  },
  {
   "cell_type": "markdown",
   "metadata": {},
   "source": [
    "# messy dates\n",
    "\n",
    "Creating your own parser would be a headache, nice to have **dateparser**!"
   ]
  },
  {
   "cell_type": "code",
   "execution_count": 2,
   "metadata": {},
   "outputs": [],
   "source": [
    "dates = []\n",
    "with open('dates') as file:\n",
    "    for line in file:\n",
    "        dates.append(line.rstrip('\\n'))"
   ]
  },
  {
   "cell_type": "code",
   "execution_count": 3,
   "metadata": {},
   "outputs": [
    {
     "name": "stdout",
     "output_type": "stream",
     "text": [
      "         Original date   |   Parsed date\n",
      "\n",
      "            16-09-2018   |   2018-09-16\n",
      "16 de Setembro de 2018   |   2018-09-16\n",
      "           16/Set/2018   |   2018-09-16\n",
      "           16 Set 2018   |   2018-09-16\n",
      "            16/09/2018   |   2018-09-16\n",
      "             16/9/2018   |   2018-09-16\n",
      "               16/9/18   |   2018-09-16\n",
      "              16/09/18   |   2018-09-16\n",
      "           2018-Set-16   |   2018-09-16\n",
      "           Set-16-2018   |   2018-09-16\n",
      "           16-2018-Set   |   2018-09-16\n"
     ]
    }
   ],
   "source": [
    "from dateparser import parse\n",
    "print('         Original date   |   Parsed date\\n')\n",
    "for date in dates:\n",
    "    print('{:>22}   |   {}'.format(date, parse(date, languages=['pt']).strftime('%Y-%m-%d')))"
   ]
  }
 ],
 "metadata": {
  "kernelspec": {
   "display_name": "Python 3",
   "language": "python",
   "name": "python3"
  },
  "language_info": {
   "codemirror_mode": {
    "name": "ipython",
    "version": 3
   },
   "file_extension": ".py",
   "mimetype": "text/x-python",
   "name": "python",
   "nbconvert_exporter": "python",
   "pygments_lexer": "ipython3",
   "version": "3.6.5"
  }
 },
 "nbformat": 4,
 "nbformat_minor": 2
}
